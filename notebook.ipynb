{
 "cells": [
  {
   "cell_type": "markdown",
   "metadata": {},
   "source": [
    "# COVID19-India-Analysis [Kaggle Notebook](https://www.kaggle.com/samacker77k/covid19-india-analysis)\n",
    "A notebook dedicated to data visualization and analysis of COVID19 Pandemic in India.\n",
    "\n",
    "---\n",
    "\n",
    "This notebook visualizes the effects of COVID19 pandemic in India to help understand the effect of the outbreak demographically.\n",
    "\n",
    "Maintained by:\n",
    "* Shivani Tyagi [LinkedIn](https://www.linkedin.com/in/shivani-tyagi-09/) [Github](https://github.com/shivitg)\n",
    "* Nitika Kamboj [LinkedIn](https://linkedin.com/in/nitika-kamboj) [Github](https://github.com/nitika-kamboj)\n",
    "* Samar Srivastava [LinkedIn](https://linkedin.com/in/samacker77l) [Github](https://github.com/samacker77)\n",
    " \n"
   ]
  },
  {
   "cell_type": "markdown",
   "metadata": {},
   "source": [
    "---"
   ]
  },
  {
   "cell_type": "markdown",
   "metadata": {},
   "source": [
    "### Fetching Data \n",
    "---"
   ]
  },
  {
   "cell_type": "code",
   "execution_count": 2,
   "metadata": {},
   "outputs": [],
   "source": [
    "import requests\n",
    "import pandas as pd\n",
    "import logging\n",
    "import datetime\n",
    "import matplotlib.pyplot as plt\n",
    "import seaborn as sns\n",
    "from scipy.stats import norm\n",
    "from sklearn.preprocessing import StandardScaler\n",
    "from scipy import stats\n",
    "import warnings\n",
    "warnings.filterwarnings('ignore')\n",
    "%matplotlib inline\n",
    "sns.set(font_scale=1.4)"
   ]
  },
  {
   "cell_type": "markdown",
   "metadata": {},
   "source": [
    "### Enable logging"
   ]
  },
  {
   "cell_type": "code",
   "execution_count": 3,
   "metadata": {},
   "outputs": [],
   "source": [
    "loggers = {}\n",
    "\n",
    "def get_logger(name):\n",
    "    \n",
    "    global loggers\n",
    "\n",
    "    if loggers.get(name):\n",
    "        return loggers.get(name)\n",
    "    else:\n",
    "        logger = logging.getLogger(name)\n",
    "        logger.setLevel(logging.DEBUG)\n",
    "        now = datetime.datetime.now()\n",
    "        handler = logging.StreamHandler()\n",
    "        formatter = logging.Formatter('%(asctime)s %(levelname)s %(message)s')\n",
    "        handler.setFormatter(formatter)\n",
    "        logger.addHandler(handler)\n",
    "        loggers[name] = logger\n",
    "        return logger\n",
    "    \n",
    "logger = get_logger('COVID19 India Analysis Logger')"
   ]
  },
  {
   "cell_type": "code",
   "execution_count": 4,
   "metadata": {},
   "outputs": [],
   "source": [
    "def fetch_data():\n",
    "    url = 'http://portal.covid19india.org/export?_export=json'\n",
    "    response = requests.get(url=url)\n",
    "    if response.status_code == 200:\n",
    "        logger.info('Connection enabled. Fetching data...')\n",
    "        fetched_data = response.json()\n",
    "        data = pd.DataFrame(fetched_data)\n",
    "        print(\"Data fetched.\")\n",
    "        return data\n",
    "    else:\n",
    "        print('Connection failed. Please retry.')\n",
    "        return"
   ]
  },
  {
   "cell_type": "code",
   "execution_count": 5,
   "metadata": {},
   "outputs": [
    {
     "name": "stderr",
     "output_type": "stream",
     "text": [
      "2020-03-24 17:21:36,012 INFO Connection enabled. Fetching data...\n"
     ]
    },
    {
     "name": "stdout",
     "output_type": "stream",
     "text": [
      "Data fetched.\n"
     ]
    }
   ],
   "source": [
    "data = fetch_data()"
   ]
  },
  {
   "cell_type": "markdown",
   "metadata": {},
   "source": [
    "---\n",
    "#### Now we have fetched data successfully. Now we will inspect the data. "
   ]
  },
  {
   "cell_type": "code",
   "execution_count": 6,
   "metadata": {},
   "outputs": [
    {
     "name": "stdout",
     "output_type": "stream",
     "text": [
      "Data Shape ~ Rows = 544 | Columns = 19\n"
     ]
    }
   ],
   "source": [
    "print(\"Data Shape ~ Rows = {} | Columns = {}\".format(data.shape[0],data.shape[1]))"
   ]
  },
  {
   "cell_type": "markdown",
   "metadata": {},
   "source": [
    "#### Checking dtypes"
   ]
  },
  {
   "cell_type": "code",
   "execution_count": 7,
   "metadata": {},
   "outputs": [
    {
     "data": {
      "text/plain": [
       "ID                       int64\n",
       "Unique id               object\n",
       "Government id           object\n",
       "Diagnosed date          object\n",
       "Age                    float64\n",
       "Gender                  object\n",
       "Detected city           object\n",
       "Detected city pt        object\n",
       "Detected district       object\n",
       "Detected state          object\n",
       "Nationality             object\n",
       "Current status          object\n",
       "Status change date      object\n",
       "Notes                   object\n",
       "Current location        object\n",
       "Current location pt     object\n",
       "Created on              object\n",
       "Updated on              object\n",
       "Contacts                object\n",
       "dtype: object"
      ]
     },
     "execution_count": 7,
     "metadata": {},
     "output_type": "execute_result"
    }
   ],
   "source": [
    "data.dtypes"
   ]
  },
  {
   "cell_type": "markdown",
   "metadata": {},
   "source": [
    "> On first look we see that the attributes 'ID' and 'Unique ID' are same. So we check if they have any values that are different. Before that we convert 'Unique ID' to int64 and compare. "
   ]
  },
  {
   "cell_type": "code",
   "execution_count": 8,
   "metadata": {},
   "outputs": [],
   "source": [
    "data['Unique id'] = data['Unique id'].astype('int64')"
   ]
  },
  {
   "cell_type": "code",
   "execution_count": 9,
   "metadata": {},
   "outputs": [
    {
     "data": {
      "text/html": [
       "<div>\n",
       "<style scoped>\n",
       "    .dataframe tbody tr th:only-of-type {\n",
       "        vertical-align: middle;\n",
       "    }\n",
       "\n",
       "    .dataframe tbody tr th {\n",
       "        vertical-align: top;\n",
       "    }\n",
       "\n",
       "    .dataframe thead th {\n",
       "        text-align: right;\n",
       "    }\n",
       "</style>\n",
       "<table border=\"1\" class=\"dataframe\">\n",
       "  <thead>\n",
       "    <tr style=\"text-align: right;\">\n",
       "      <th></th>\n",
       "      <th>ID</th>\n",
       "      <th>Unique id</th>\n",
       "      <th>Government id</th>\n",
       "      <th>Diagnosed date</th>\n",
       "      <th>Age</th>\n",
       "      <th>Gender</th>\n",
       "      <th>Detected city</th>\n",
       "      <th>Detected city pt</th>\n",
       "      <th>Detected district</th>\n",
       "      <th>Detected state</th>\n",
       "      <th>Nationality</th>\n",
       "      <th>Current status</th>\n",
       "      <th>Status change date</th>\n",
       "      <th>Notes</th>\n",
       "      <th>Current location</th>\n",
       "      <th>Current location pt</th>\n",
       "      <th>Created on</th>\n",
       "      <th>Updated on</th>\n",
       "      <th>Contacts</th>\n",
       "    </tr>\n",
       "  </thead>\n",
       "  <tbody>\n",
       "    <tr>\n",
       "      <td>0</td>\n",
       "      <td>1</td>\n",
       "      <td>1</td>\n",
       "      <td>KL-TS-P1</td>\n",
       "      <td>30/Jan/2020</td>\n",
       "      <td>20.0</td>\n",
       "      <td>Female</td>\n",
       "      <td>Thrissur</td>\n",
       "      <td>SRID=4326;POINT (76.21325419999999 10.5256264)</td>\n",
       "      <td>Thrissur</td>\n",
       "      <td>Kerala</td>\n",
       "      <td>India</td>\n",
       "      <td>Recovered</td>\n",
       "      <td>02/14/2020</td>\n",
       "      <td>Travelled from Wuhan.\\nStudent from Wuhan</td>\n",
       "      <td>None</td>\n",
       "      <td>SRID=4326;POINT (76.21325419999999 10.5256264)</td>\n",
       "      <td>03/23/2020 12:20 p.m.</td>\n",
       "      <td>03/23/2020 12:20 p.m.</td>\n",
       "      <td>None</td>\n",
       "    </tr>\n",
       "    <tr>\n",
       "      <td>1</td>\n",
       "      <td>2</td>\n",
       "      <td>2</td>\n",
       "      <td>KL-AL-P1</td>\n",
       "      <td>02/Feb/2020</td>\n",
       "      <td>NaN</td>\n",
       "      <td>Unknown</td>\n",
       "      <td>Alappuzha</td>\n",
       "      <td>SRID=4326;POINT (76.333482 9.498000100000001)</td>\n",
       "      <td>Alappuzha</td>\n",
       "      <td>Kerala</td>\n",
       "      <td>India</td>\n",
       "      <td>Recovered</td>\n",
       "      <td>02/14/2020</td>\n",
       "      <td>Travelled from Wuhan.\\nStudent from Wuhan</td>\n",
       "      <td>None</td>\n",
       "      <td>SRID=4326;POINT (76.333482 9.498000100000001)</td>\n",
       "      <td>03/23/2020 12:20 p.m.</td>\n",
       "      <td>03/23/2020 12:20 p.m.</td>\n",
       "      <td>None</td>\n",
       "    </tr>\n",
       "    <tr>\n",
       "      <td>2</td>\n",
       "      <td>3</td>\n",
       "      <td>3</td>\n",
       "      <td>KL-KS-P1</td>\n",
       "      <td>03/Feb/2020</td>\n",
       "      <td>NaN</td>\n",
       "      <td>Unknown</td>\n",
       "      <td>Kasargode</td>\n",
       "      <td>SRID=4326;POINT (80 20)</td>\n",
       "      <td>Kasaragod</td>\n",
       "      <td>Kerala</td>\n",
       "      <td>India</td>\n",
       "      <td>Recovered</td>\n",
       "      <td>02/14/2020</td>\n",
       "      <td>Travelled from Wuhan.\\nStudent from Wuhan</td>\n",
       "      <td>None</td>\n",
       "      <td>SRID=4326;POINT (80 20)</td>\n",
       "      <td>03/23/2020 12:20 p.m.</td>\n",
       "      <td>03/23/2020 12:20 p.m.</td>\n",
       "      <td>None</td>\n",
       "    </tr>\n",
       "    <tr>\n",
       "      <td>3</td>\n",
       "      <td>4</td>\n",
       "      <td>4</td>\n",
       "      <td>DL-P1</td>\n",
       "      <td>02/Mar/2020</td>\n",
       "      <td>45.0</td>\n",
       "      <td>Male</td>\n",
       "      <td>East Delhi (Mayur Vihar)</td>\n",
       "      <td>SRID=4326;POINT (80 20)</td>\n",
       "      <td>East Delhi</td>\n",
       "      <td>Delhi</td>\n",
       "      <td>India</td>\n",
       "      <td>Recovered</td>\n",
       "      <td>03/15/2020</td>\n",
       "      <td>Travelled from Austria, Italy.\\nTravel history...</td>\n",
       "      <td>None</td>\n",
       "      <td>SRID=4326;POINT (80 20)</td>\n",
       "      <td>03/23/2020 12:20 p.m.</td>\n",
       "      <td>03/23/2020 12:20 p.m.</td>\n",
       "      <td>Patient 22:, Patient 23:, Patient 24:, Patient...</td>\n",
       "    </tr>\n",
       "    <tr>\n",
       "      <td>4</td>\n",
       "      <td>5</td>\n",
       "      <td>5</td>\n",
       "      <td>TS-P1</td>\n",
       "      <td>02/Mar/2020</td>\n",
       "      <td>NaN</td>\n",
       "      <td>Unknown</td>\n",
       "      <td>Hyderabad</td>\n",
       "      <td>SRID=4326;POINT (78.4349398685041 17.4263524)</td>\n",
       "      <td>Hyderabad</td>\n",
       "      <td>Telangana</td>\n",
       "      <td>India</td>\n",
       "      <td>Recovered</td>\n",
       "      <td>03/02/2020</td>\n",
       "      <td>Travelled from Dubai, Singapore contact.\\nTrav...</td>\n",
       "      <td>None</td>\n",
       "      <td>SRID=4326;POINT (78.4349398685041 17.4263524)</td>\n",
       "      <td>03/23/2020 12:20 p.m.</td>\n",
       "      <td>03/23/2020 12:20 p.m.</td>\n",
       "      <td>None</td>\n",
       "    </tr>\n",
       "    <tr>\n",
       "      <td>...</td>\n",
       "      <td>...</td>\n",
       "      <td>...</td>\n",
       "      <td>...</td>\n",
       "      <td>...</td>\n",
       "      <td>...</td>\n",
       "      <td>...</td>\n",
       "      <td>...</td>\n",
       "      <td>...</td>\n",
       "      <td>...</td>\n",
       "      <td>...</td>\n",
       "      <td>...</td>\n",
       "      <td>...</td>\n",
       "      <td>...</td>\n",
       "      <td>...</td>\n",
       "      <td>...</td>\n",
       "      <td>...</td>\n",
       "      <td>...</td>\n",
       "      <td>...</td>\n",
       "      <td>...</td>\n",
       "    </tr>\n",
       "    <tr>\n",
       "      <td>539</td>\n",
       "      <td>540</td>\n",
       "      <td>540</td>\n",
       "      <td>None</td>\n",
       "      <td>24/Mar/2020</td>\n",
       "      <td>NaN</td>\n",
       "      <td>Unknown</td>\n",
       "      <td>Mumbai</td>\n",
       "      <td>SRID=4326;POINT (72.8353355 18.9387711)</td>\n",
       "      <td>None</td>\n",
       "      <td>Maharashtra</td>\n",
       "      <td>None</td>\n",
       "      <td>Hospitalized</td>\n",
       "      <td>03/24/2020</td>\n",
       "      <td>Details awaited</td>\n",
       "      <td>None</td>\n",
       "      <td>SRID=4326;POINT (72.8353355 18.9387711)</td>\n",
       "      <td>03/24/2020 4:54 p.m.</td>\n",
       "      <td>03/24/2020 4:54 p.m.</td>\n",
       "      <td>None</td>\n",
       "    </tr>\n",
       "    <tr>\n",
       "      <td>540</td>\n",
       "      <td>541</td>\n",
       "      <td>541</td>\n",
       "      <td>None</td>\n",
       "      <td>24/Mar/2020</td>\n",
       "      <td>NaN</td>\n",
       "      <td>Unknown</td>\n",
       "      <td>Mumbai</td>\n",
       "      <td>SRID=4326;POINT (72.8353355 18.9387711)</td>\n",
       "      <td>None</td>\n",
       "      <td>Maharashtra</td>\n",
       "      <td>None</td>\n",
       "      <td>Hospitalized</td>\n",
       "      <td>03/24/2020</td>\n",
       "      <td>Details awaited</td>\n",
       "      <td>None</td>\n",
       "      <td>SRID=4326;POINT (72.8353355 18.9387711)</td>\n",
       "      <td>03/24/2020 4:54 p.m.</td>\n",
       "      <td>03/24/2020 4:54 p.m.</td>\n",
       "      <td>None</td>\n",
       "    </tr>\n",
       "    <tr>\n",
       "      <td>541</td>\n",
       "      <td>542</td>\n",
       "      <td>542</td>\n",
       "      <td>None</td>\n",
       "      <td>24/Mar/2020</td>\n",
       "      <td>NaN</td>\n",
       "      <td>Unknown</td>\n",
       "      <td>Mumbai</td>\n",
       "      <td>SRID=4326;POINT (72.8353355 18.9387711)</td>\n",
       "      <td>None</td>\n",
       "      <td>Maharashtra</td>\n",
       "      <td>None</td>\n",
       "      <td>Hospitalized</td>\n",
       "      <td>03/24/2020</td>\n",
       "      <td>Details awaited</td>\n",
       "      <td>None</td>\n",
       "      <td>SRID=4326;POINT (72.8353355 18.9387711)</td>\n",
       "      <td>03/24/2020 4:54 p.m.</td>\n",
       "      <td>03/24/2020 4:54 p.m.</td>\n",
       "      <td>None</td>\n",
       "    </tr>\n",
       "    <tr>\n",
       "      <td>542</td>\n",
       "      <td>543</td>\n",
       "      <td>543</td>\n",
       "      <td>None</td>\n",
       "      <td>24/Mar/2020</td>\n",
       "      <td>NaN</td>\n",
       "      <td>Unknown</td>\n",
       "      <td>Ahmednagar</td>\n",
       "      <td>SRID=4326;POINT (74.85802430085195 19.1627725)</td>\n",
       "      <td>None</td>\n",
       "      <td>Maharashtra</td>\n",
       "      <td>None</td>\n",
       "      <td>Hospitalized</td>\n",
       "      <td>03/24/2020</td>\n",
       "      <td>Details awaited</td>\n",
       "      <td>None</td>\n",
       "      <td>SRID=4326;POINT (74.85802430085195 19.1627725)</td>\n",
       "      <td>03/24/2020 4:54 p.m.</td>\n",
       "      <td>03/24/2020 4:54 p.m.</td>\n",
       "      <td>None</td>\n",
       "    </tr>\n",
       "    <tr>\n",
       "      <td>543</td>\n",
       "      <td>544</td>\n",
       "      <td>544</td>\n",
       "      <td>None</td>\n",
       "      <td>24/Mar/2020</td>\n",
       "      <td>47.0</td>\n",
       "      <td>Female</td>\n",
       "      <td>Noida</td>\n",
       "      <td>SRID=4326;POINT (77.3151087 28.5808133)</td>\n",
       "      <td>None</td>\n",
       "      <td>Delhi</td>\n",
       "      <td>None</td>\n",
       "      <td>Hospitalized</td>\n",
       "      <td>03/24/2020</td>\n",
       "      <td>No travel history</td>\n",
       "      <td>None</td>\n",
       "      <td>SRID=4326;POINT (77.3151087 28.5808133)</td>\n",
       "      <td>03/24/2020 4:54 p.m.</td>\n",
       "      <td>03/24/2020 4:54 p.m.</td>\n",
       "      <td>None</td>\n",
       "    </tr>\n",
       "  </tbody>\n",
       "</table>\n",
       "<p>544 rows × 19 columns</p>\n",
       "</div>"
      ],
      "text/plain": [
       "      ID  Unique id Government id Diagnosed date   Age   Gender  \\\n",
       "0      1          1      KL-TS-P1    30/Jan/2020  20.0   Female   \n",
       "1      2          2      KL-AL-P1    02/Feb/2020   NaN  Unknown   \n",
       "2      3          3      KL-KS-P1    03/Feb/2020   NaN  Unknown   \n",
       "3      4          4         DL-P1    02/Mar/2020  45.0     Male   \n",
       "4      5          5         TS-P1    02/Mar/2020   NaN  Unknown   \n",
       "..   ...        ...           ...            ...   ...      ...   \n",
       "539  540        540          None    24/Mar/2020   NaN  Unknown   \n",
       "540  541        541          None    24/Mar/2020   NaN  Unknown   \n",
       "541  542        542          None    24/Mar/2020   NaN  Unknown   \n",
       "542  543        543          None    24/Mar/2020   NaN  Unknown   \n",
       "543  544        544          None    24/Mar/2020  47.0   Female   \n",
       "\n",
       "                Detected city                                Detected city pt  \\\n",
       "0                    Thrissur  SRID=4326;POINT (76.21325419999999 10.5256264)   \n",
       "1                   Alappuzha   SRID=4326;POINT (76.333482 9.498000100000001)   \n",
       "2                   Kasargode                         SRID=4326;POINT (80 20)   \n",
       "3    East Delhi (Mayur Vihar)                         SRID=4326;POINT (80 20)   \n",
       "4                   Hyderabad   SRID=4326;POINT (78.4349398685041 17.4263524)   \n",
       "..                        ...                                             ...   \n",
       "539                    Mumbai         SRID=4326;POINT (72.8353355 18.9387711)   \n",
       "540                    Mumbai         SRID=4326;POINT (72.8353355 18.9387711)   \n",
       "541                    Mumbai         SRID=4326;POINT (72.8353355 18.9387711)   \n",
       "542                Ahmednagar  SRID=4326;POINT (74.85802430085195 19.1627725)   \n",
       "543                     Noida         SRID=4326;POINT (77.3151087 28.5808133)   \n",
       "\n",
       "    Detected district Detected state Nationality Current status  \\\n",
       "0            Thrissur         Kerala       India      Recovered   \n",
       "1           Alappuzha         Kerala       India      Recovered   \n",
       "2           Kasaragod         Kerala       India      Recovered   \n",
       "3          East Delhi          Delhi       India      Recovered   \n",
       "4           Hyderabad      Telangana       India      Recovered   \n",
       "..                ...            ...         ...            ...   \n",
       "539              None    Maharashtra        None   Hospitalized   \n",
       "540              None    Maharashtra        None   Hospitalized   \n",
       "541              None    Maharashtra        None   Hospitalized   \n",
       "542              None    Maharashtra        None   Hospitalized   \n",
       "543              None          Delhi        None   Hospitalized   \n",
       "\n",
       "    Status change date                                              Notes  \\\n",
       "0           02/14/2020          Travelled from Wuhan.\\nStudent from Wuhan   \n",
       "1           02/14/2020          Travelled from Wuhan.\\nStudent from Wuhan   \n",
       "2           02/14/2020          Travelled from Wuhan.\\nStudent from Wuhan   \n",
       "3           03/15/2020  Travelled from Austria, Italy.\\nTravel history...   \n",
       "4           03/02/2020  Travelled from Dubai, Singapore contact.\\nTrav...   \n",
       "..                 ...                                                ...   \n",
       "539         03/24/2020                                    Details awaited   \n",
       "540         03/24/2020                                    Details awaited   \n",
       "541         03/24/2020                                    Details awaited   \n",
       "542         03/24/2020                                    Details awaited   \n",
       "543         03/24/2020                                  No travel history   \n",
       "\n",
       "    Current location                             Current location pt  \\\n",
       "0               None  SRID=4326;POINT (76.21325419999999 10.5256264)   \n",
       "1               None   SRID=4326;POINT (76.333482 9.498000100000001)   \n",
       "2               None                         SRID=4326;POINT (80 20)   \n",
       "3               None                         SRID=4326;POINT (80 20)   \n",
       "4               None   SRID=4326;POINT (78.4349398685041 17.4263524)   \n",
       "..               ...                                             ...   \n",
       "539             None         SRID=4326;POINT (72.8353355 18.9387711)   \n",
       "540             None         SRID=4326;POINT (72.8353355 18.9387711)   \n",
       "541             None         SRID=4326;POINT (72.8353355 18.9387711)   \n",
       "542             None  SRID=4326;POINT (74.85802430085195 19.1627725)   \n",
       "543             None         SRID=4326;POINT (77.3151087 28.5808133)   \n",
       "\n",
       "                Created on             Updated on  \\\n",
       "0    03/23/2020 12:20 p.m.  03/23/2020 12:20 p.m.   \n",
       "1    03/23/2020 12:20 p.m.  03/23/2020 12:20 p.m.   \n",
       "2    03/23/2020 12:20 p.m.  03/23/2020 12:20 p.m.   \n",
       "3    03/23/2020 12:20 p.m.  03/23/2020 12:20 p.m.   \n",
       "4    03/23/2020 12:20 p.m.  03/23/2020 12:20 p.m.   \n",
       "..                     ...                    ...   \n",
       "539   03/24/2020 4:54 p.m.   03/24/2020 4:54 p.m.   \n",
       "540   03/24/2020 4:54 p.m.   03/24/2020 4:54 p.m.   \n",
       "541   03/24/2020 4:54 p.m.   03/24/2020 4:54 p.m.   \n",
       "542   03/24/2020 4:54 p.m.   03/24/2020 4:54 p.m.   \n",
       "543   03/24/2020 4:54 p.m.   03/24/2020 4:54 p.m.   \n",
       "\n",
       "                                              Contacts  \n",
       "0                                                 None  \n",
       "1                                                 None  \n",
       "2                                                 None  \n",
       "3    Patient 22:, Patient 23:, Patient 24:, Patient...  \n",
       "4                                                 None  \n",
       "..                                                 ...  \n",
       "539                                               None  \n",
       "540                                               None  \n",
       "541                                               None  \n",
       "542                                               None  \n",
       "543                                               None  \n",
       "\n",
       "[544 rows x 19 columns]"
      ]
     },
     "execution_count": 9,
     "metadata": {},
     "output_type": "execute_result"
    }
   ],
   "source": [
    "data[data['ID'] == data['Unique id']]"
   ]
  },
  {
   "cell_type": "markdown",
   "metadata": {},
   "source": [
    "> Since we have same values in both columns. We can drop one of them and make another as the index"
   ]
  },
  {
   "cell_type": "code",
   "execution_count": 10,
   "metadata": {},
   "outputs": [],
   "source": [
    "data.drop('Unique id',axis=1,inplace=True)"
   ]
  },
  {
   "cell_type": "code",
   "execution_count": 11,
   "metadata": {},
   "outputs": [],
   "source": [
    "data.set_index('ID',inplace=True)"
   ]
  },
  {
   "cell_type": "code",
   "execution_count": 12,
   "metadata": {},
   "outputs": [
    {
     "name": "stdout",
     "output_type": "stream",
     "text": [
      "Data Shape ~ Rows = 544 | Columns = 17\n"
     ]
    }
   ],
   "source": [
    "print(\"Data Shape ~ Rows = {} | Columns = {}\".format(data.shape[0],data.shape[1]))"
   ]
  },
  {
   "cell_type": "code",
   "execution_count": 13,
   "metadata": {},
   "outputs": [
    {
     "data": {
      "text/html": [
       "<div>\n",
       "<style scoped>\n",
       "    .dataframe tbody tr th:only-of-type {\n",
       "        vertical-align: middle;\n",
       "    }\n",
       "\n",
       "    .dataframe tbody tr th {\n",
       "        vertical-align: top;\n",
       "    }\n",
       "\n",
       "    .dataframe thead th {\n",
       "        text-align: right;\n",
       "    }\n",
       "</style>\n",
       "<table border=\"1\" class=\"dataframe\">\n",
       "  <thead>\n",
       "    <tr style=\"text-align: right;\">\n",
       "      <th></th>\n",
       "      <th>Government id</th>\n",
       "      <th>Diagnosed date</th>\n",
       "      <th>Age</th>\n",
       "      <th>Gender</th>\n",
       "      <th>Detected city</th>\n",
       "      <th>Detected city pt</th>\n",
       "      <th>Detected district</th>\n",
       "      <th>Detected state</th>\n",
       "      <th>Nationality</th>\n",
       "      <th>Current status</th>\n",
       "      <th>Status change date</th>\n",
       "      <th>Notes</th>\n",
       "      <th>Current location</th>\n",
       "      <th>Current location pt</th>\n",
       "      <th>Created on</th>\n",
       "      <th>Updated on</th>\n",
       "      <th>Contacts</th>\n",
       "    </tr>\n",
       "    <tr>\n",
       "      <th>ID</th>\n",
       "      <th></th>\n",
       "      <th></th>\n",
       "      <th></th>\n",
       "      <th></th>\n",
       "      <th></th>\n",
       "      <th></th>\n",
       "      <th></th>\n",
       "      <th></th>\n",
       "      <th></th>\n",
       "      <th></th>\n",
       "      <th></th>\n",
       "      <th></th>\n",
       "      <th></th>\n",
       "      <th></th>\n",
       "      <th></th>\n",
       "      <th></th>\n",
       "      <th></th>\n",
       "    </tr>\n",
       "  </thead>\n",
       "  <tbody>\n",
       "    <tr>\n",
       "      <td>1</td>\n",
       "      <td>KL-TS-P1</td>\n",
       "      <td>30/Jan/2020</td>\n",
       "      <td>20.0</td>\n",
       "      <td>Female</td>\n",
       "      <td>Thrissur</td>\n",
       "      <td>SRID=4326;POINT (76.21325419999999 10.5256264)</td>\n",
       "      <td>Thrissur</td>\n",
       "      <td>Kerala</td>\n",
       "      <td>India</td>\n",
       "      <td>Recovered</td>\n",
       "      <td>02/14/2020</td>\n",
       "      <td>Travelled from Wuhan.\\nStudent from Wuhan</td>\n",
       "      <td>None</td>\n",
       "      <td>SRID=4326;POINT (76.21325419999999 10.5256264)</td>\n",
       "      <td>03/23/2020 12:20 p.m.</td>\n",
       "      <td>03/23/2020 12:20 p.m.</td>\n",
       "      <td>None</td>\n",
       "    </tr>\n",
       "    <tr>\n",
       "      <td>2</td>\n",
       "      <td>KL-AL-P1</td>\n",
       "      <td>02/Feb/2020</td>\n",
       "      <td>NaN</td>\n",
       "      <td>Unknown</td>\n",
       "      <td>Alappuzha</td>\n",
       "      <td>SRID=4326;POINT (76.333482 9.498000100000001)</td>\n",
       "      <td>Alappuzha</td>\n",
       "      <td>Kerala</td>\n",
       "      <td>India</td>\n",
       "      <td>Recovered</td>\n",
       "      <td>02/14/2020</td>\n",
       "      <td>Travelled from Wuhan.\\nStudent from Wuhan</td>\n",
       "      <td>None</td>\n",
       "      <td>SRID=4326;POINT (76.333482 9.498000100000001)</td>\n",
       "      <td>03/23/2020 12:20 p.m.</td>\n",
       "      <td>03/23/2020 12:20 p.m.</td>\n",
       "      <td>None</td>\n",
       "    </tr>\n",
       "    <tr>\n",
       "      <td>3</td>\n",
       "      <td>KL-KS-P1</td>\n",
       "      <td>03/Feb/2020</td>\n",
       "      <td>NaN</td>\n",
       "      <td>Unknown</td>\n",
       "      <td>Kasargode</td>\n",
       "      <td>SRID=4326;POINT (80 20)</td>\n",
       "      <td>Kasaragod</td>\n",
       "      <td>Kerala</td>\n",
       "      <td>India</td>\n",
       "      <td>Recovered</td>\n",
       "      <td>02/14/2020</td>\n",
       "      <td>Travelled from Wuhan.\\nStudent from Wuhan</td>\n",
       "      <td>None</td>\n",
       "      <td>SRID=4326;POINT (80 20)</td>\n",
       "      <td>03/23/2020 12:20 p.m.</td>\n",
       "      <td>03/23/2020 12:20 p.m.</td>\n",
       "      <td>None</td>\n",
       "    </tr>\n",
       "    <tr>\n",
       "      <td>4</td>\n",
       "      <td>DL-P1</td>\n",
       "      <td>02/Mar/2020</td>\n",
       "      <td>45.0</td>\n",
       "      <td>Male</td>\n",
       "      <td>East Delhi (Mayur Vihar)</td>\n",
       "      <td>SRID=4326;POINT (80 20)</td>\n",
       "      <td>East Delhi</td>\n",
       "      <td>Delhi</td>\n",
       "      <td>India</td>\n",
       "      <td>Recovered</td>\n",
       "      <td>03/15/2020</td>\n",
       "      <td>Travelled from Austria, Italy.\\nTravel history...</td>\n",
       "      <td>None</td>\n",
       "      <td>SRID=4326;POINT (80 20)</td>\n",
       "      <td>03/23/2020 12:20 p.m.</td>\n",
       "      <td>03/23/2020 12:20 p.m.</td>\n",
       "      <td>Patient 22:, Patient 23:, Patient 24:, Patient...</td>\n",
       "    </tr>\n",
       "    <tr>\n",
       "      <td>5</td>\n",
       "      <td>TS-P1</td>\n",
       "      <td>02/Mar/2020</td>\n",
       "      <td>NaN</td>\n",
       "      <td>Unknown</td>\n",
       "      <td>Hyderabad</td>\n",
       "      <td>SRID=4326;POINT (78.4349398685041 17.4263524)</td>\n",
       "      <td>Hyderabad</td>\n",
       "      <td>Telangana</td>\n",
       "      <td>India</td>\n",
       "      <td>Recovered</td>\n",
       "      <td>03/02/2020</td>\n",
       "      <td>Travelled from Dubai, Singapore contact.\\nTrav...</td>\n",
       "      <td>None</td>\n",
       "      <td>SRID=4326;POINT (78.4349398685041 17.4263524)</td>\n",
       "      <td>03/23/2020 12:20 p.m.</td>\n",
       "      <td>03/23/2020 12:20 p.m.</td>\n",
       "      <td>None</td>\n",
       "    </tr>\n",
       "  </tbody>\n",
       "</table>\n",
       "</div>"
      ],
      "text/plain": [
       "   Government id Diagnosed date   Age   Gender             Detected city  \\\n",
       "ID                                                                         \n",
       "1       KL-TS-P1    30/Jan/2020  20.0   Female                  Thrissur   \n",
       "2       KL-AL-P1    02/Feb/2020   NaN  Unknown                 Alappuzha   \n",
       "3       KL-KS-P1    03/Feb/2020   NaN  Unknown                 Kasargode   \n",
       "4          DL-P1    02/Mar/2020  45.0     Male  East Delhi (Mayur Vihar)   \n",
       "5          TS-P1    02/Mar/2020   NaN  Unknown                 Hyderabad   \n",
       "\n",
       "                                  Detected city pt Detected district  \\\n",
       "ID                                                                     \n",
       "1   SRID=4326;POINT (76.21325419999999 10.5256264)          Thrissur   \n",
       "2    SRID=4326;POINT (76.333482 9.498000100000001)         Alappuzha   \n",
       "3                          SRID=4326;POINT (80 20)         Kasaragod   \n",
       "4                          SRID=4326;POINT (80 20)        East Delhi   \n",
       "5    SRID=4326;POINT (78.4349398685041 17.4263524)         Hyderabad   \n",
       "\n",
       "   Detected state Nationality Current status Status change date  \\\n",
       "ID                                                                \n",
       "1          Kerala       India      Recovered         02/14/2020   \n",
       "2          Kerala       India      Recovered         02/14/2020   \n",
       "3          Kerala       India      Recovered         02/14/2020   \n",
       "4           Delhi       India      Recovered         03/15/2020   \n",
       "5       Telangana       India      Recovered         03/02/2020   \n",
       "\n",
       "                                                Notes Current location  \\\n",
       "ID                                                                       \n",
       "1           Travelled from Wuhan.\\nStudent from Wuhan             None   \n",
       "2           Travelled from Wuhan.\\nStudent from Wuhan             None   \n",
       "3           Travelled from Wuhan.\\nStudent from Wuhan             None   \n",
       "4   Travelled from Austria, Italy.\\nTravel history...             None   \n",
       "5   Travelled from Dubai, Singapore contact.\\nTrav...             None   \n",
       "\n",
       "                               Current location pt             Created on  \\\n",
       "ID                                                                          \n",
       "1   SRID=4326;POINT (76.21325419999999 10.5256264)  03/23/2020 12:20 p.m.   \n",
       "2    SRID=4326;POINT (76.333482 9.498000100000001)  03/23/2020 12:20 p.m.   \n",
       "3                          SRID=4326;POINT (80 20)  03/23/2020 12:20 p.m.   \n",
       "4                          SRID=4326;POINT (80 20)  03/23/2020 12:20 p.m.   \n",
       "5    SRID=4326;POINT (78.4349398685041 17.4263524)  03/23/2020 12:20 p.m.   \n",
       "\n",
       "               Updated on                                           Contacts  \n",
       "ID                                                                            \n",
       "1   03/23/2020 12:20 p.m.                                               None  \n",
       "2   03/23/2020 12:20 p.m.                                               None  \n",
       "3   03/23/2020 12:20 p.m.                                               None  \n",
       "4   03/23/2020 12:20 p.m.  Patient 22:, Patient 23:, Patient 24:, Patient...  \n",
       "5   03/23/2020 12:20 p.m.                                               None  "
      ]
     },
     "execution_count": 13,
     "metadata": {},
     "output_type": "execute_result"
    }
   ],
   "source": [
    "data.head()"
   ]
  },
  {
   "cell_type": "markdown",
   "metadata": {},
   "source": [
    "#### Now the data is ready for analysis and preprocessing"
   ]
  },
  {
   "cell_type": "markdown",
   "metadata": {},
   "source": [
    "> Graph between the count of affected people and Nationality."
   ]
  },
  {
   "cell_type": "code",
   "execution_count": 14,
   "metadata": {},
   "outputs": [
    {
     "data": {
      "text/plain": [
       "India             310\n",
       "Italy              18\n",
       "Indonesia          10\n",
       "United Kingdom      7\n",
       "Phillipines         2\n",
       "Thailand            2\n",
       "Indian              2\n",
       "Canada              1\n",
       "Name: Nationality, dtype: int64"
      ]
     },
     "execution_count": 14,
     "metadata": {},
     "output_type": "execute_result"
    }
   ],
   "source": [
    "data['Nationality'].value_counts()"
   ]
  },
  {
   "cell_type": "code",
   "execution_count": 15,
   "metadata": {},
   "outputs": [
    {
     "data": {
      "image/png": "[encoded data removed]",
      "text/plain": [
       "<Figure size 720x360 with 1 Axes>"
      ]
     },
     "metadata": {
      "needs_background": "light"
     },
     "output_type": "display_data"
    }
   ],
   "source": [
    "plt.figure(figsize=(10,5))\n",
    "sns.barplot(data['Nationality'].value_counts().values,data['Nationality'].value_counts().index, palette=sns.dark_palette(\"blue\", reverse=True))\n",
    "plt.title('Count of people affected and their Nationality')\n",
    "plt.xlabel('Count of people affected', fontsize=12)\n",
    "plt.ylabel('Nationality', fontsize=12)\n",
    "plt.show()"
   ]
  },
  {
   "cell_type": "markdown",
   "metadata": {},
   "source": [
    "> We can see from above graph that 'India' and 'Indian' are same nationality. We can replace 'Indian' with 'India'"
   ]
  },
  {
   "cell_type": "code",
   "execution_count": 16,
   "metadata": {},
   "outputs": [],
   "source": [
    "data['Nationality']=data['Nationality'].replace('Indian','India')"
   ]
  },
  {
   "cell_type": "code",
   "execution_count": 17,
   "metadata": {},
   "outputs": [
    {
     "data": {
      "text/plain": [
       "India             312\n",
       "Italy              18\n",
       "Indonesia          10\n",
       "United Kingdom      7\n",
       "Phillipines         2\n",
       "Thailand            2\n",
       "Canada              1\n",
       "Name: Nationality, dtype: int64"
      ]
     },
     "execution_count": 17,
     "metadata": {},
     "output_type": "execute_result"
    }
   ],
   "source": [
    "data['Nationality'].value_counts()"
   ]
  },
  {
   "cell_type": "code",
   "execution_count": 18,
   "metadata": {},
   "outputs": [
    {
     "data": {
      "image/png": "[encoded data removed]",
      "text/plain": [
       "<Figure size 720x360 with 1 Axes>"
      ]
     },
     "metadata": {
      "needs_background": "light"
     },
     "output_type": "display_data"
    }
   ],
   "source": [
    "plt.figure(figsize=(10,5))\n",
    "sns.barplot(data['Nationality'].value_counts().values,data['Nationality'].value_counts().index, palette=sns.dark_palette(\"blue\", reverse=True))\n",
    "plt.title('Count of people affected and their Nationality')\n",
    "plt.xlabel('Count of people affected', fontsize=12)\n",
    "plt.ylabel('Nationality', fontsize=12)\n",
    "plt.show()"
   ]
  },
  {
   "cell_type": "markdown",
   "metadata": {},
   "source": [
    "> Graph between gender and count of affected people."
   ]
  },
  {
   "cell_type": "code",
   "execution_count": 19,
   "metadata": {},
   "outputs": [
    {
     "data": {
      "image/png": "[encoded data removed]",
      "text/plain": [
       "<Figure size 432x360 with 1 Axes>"
      ]
     },
     "metadata": {
      "needs_background": "light"
     },
     "output_type": "display_data"
    }
   ],
   "source": [
    "plt.figure(figsize=(6,5))\n",
    "sns.barplot(data['Gender'].value_counts().index,data['Gender'].value_counts().values, palette=sns.dark_palette(\"blue\", reverse=True))\n",
    "plt.title('Count of people affected and their Gender')\n",
    "plt.ylabel('Count of people affected', fontsize=12)\n",
    "plt.xlabel('Gender', fontsize=12)\n",
    "plt.show()"
   ]
  },
  {
   "cell_type": "markdown",
   "metadata": {},
   "source": [
    "> Graph between different states and number of detected cases."
   ]
  },
  {
   "cell_type": "code",
   "execution_count": 20,
   "metadata": {},
   "outputs": [
    {
     "data": {
      "image/png": "[encoded data removed]",
      "text/plain": [
       "<Figure size 720x720 with 1 Axes>"
      ]
     },
     "metadata": {
      "needs_background": "light"
     },
     "output_type": "display_data"
    }
   ],
   "source": [
    "plt.figure(figsize=(10,10))\n",
    "sns.barplot(data['Detected state'].value_counts().values,data['Detected state'].value_counts().index, palette=sns.dark_palette(\"blue\", reverse=True))\n",
    "plt.title('Detected Cases in different states of India.')\n",
    "plt.xlabel('Count of people affected', fontsize=12)\n",
    "plt.ylabel('State', fontsize=12)\n",
    "plt.show()"
   ]
  },
  {
   "cell_type": "markdown",
   "metadata": {},
   "source": [
    "> Graph displaying status and count of affected people."
   ]
  },
  {
   "cell_type": "code",
   "execution_count": 21,
   "metadata": {},
   "outputs": [
    {
     "data": {
      "image/png": "[encoded data removed]",
      "text/plain": [
       "<Figure size 360x360 with 1 Axes>"
      ]
     },
     "metadata": {
      "needs_background": "light"
     },
     "output_type": "display_data"
    }
   ],
   "source": [
    "plt.figure(figsize=(5,5))\n",
    "sns.barplot(data['Current status'].value_counts().index,data['Current status'].value_counts().values, palette=sns.dark_palette(\"blue\", reverse=True))\n",
    "plt.title('Status of affected people.')\n",
    "plt.xlabel('Status', fontsize=12)\n",
    "plt.ylabel('Count of people affected', fontsize=12)\n",
    "plt.show()"
   ]
  },
  {
   "cell_type": "code",
   "execution_count": 22,
   "metadata": {},
   "outputs": [
    {
     "data": {
      "image/png": "[encoded data removed]",
      "text/plain": [
       "<Figure size 1800x1440 with 1 Axes>"
      ]
     },
     "metadata": {
      "needs_background": "light"
     },
     "output_type": "display_data"
    }
   ],
   "source": [
    "plt.figure(figsize=(25,20))\n",
    "sns.barplot(data['Detected district'].value_counts()[:10].values,data['Detected district'].value_counts()[:10].index, palette=sns.dark_palette(\"blue\", reverse=True))\n",
    "plt.title('Count of detected cases in top 10 different districst of India.',fontsize=20)\n",
    "plt.xlabel('Count of people detected', fontsize=12)\n",
    "plt.ylabel('District', fontsize=20)\n",
    "plt.rc('xtick',labelsize=25)\n",
    "plt.rc('ytick',labelsize=25)\n",
    "plt.show()"
   ]
  },
  {
   "cell_type": "code",
   "execution_count": 23,
   "metadata": {},
   "outputs": [
    {
     "data": {
      "image/png": "[encoded data removed]",
      "text/plain": [
       "<Figure size 720x720 with 1 Axes>"
      ]
     },
     "metadata": {
      "needs_background": "light"
     },
     "output_type": "display_data"
    }
   ],
   "source": [
    "plt.figure(figsize=(10,10))\n",
    "sns.barplot(data['Diagnosed date'].value_counts().values,data['Diagnosed date'].value_counts().index, palette=sns.dark_palette(\"blue\", reverse=True))\n",
    "plt.title('Date and count of detected cases.')\n",
    "plt.xlabel('Count of cases detected.', fontsize=12)\n",
    "plt.ylabel('Detected Dates', fontsize=12)\n",
    "plt.rc('xtick',labelsize=10)\n",
    "plt.rc('ytick',labelsize=10)\n",
    "plt.show()"
   ]
  },
  {
   "cell_type": "code",
   "execution_count": 24,
   "metadata": {},
   "outputs": [
    {
     "data": {
      "text/plain": [
       "<matplotlib.axes._subplots.AxesSubplot at 0x1a23a74ed0>"
      ]
     },
     "execution_count": 24,
     "metadata": {},
     "output_type": "execute_result"
    },
    {
     "data": {
      "image/png": "[encoded data removed]",
      "text/plain": [
       "<Figure size 1080x360 with 1 Axes>"
      ]
     },
     "metadata": {
      "needs_background": "light"
     },
     "output_type": "display_data"
    }
   ],
   "source": [
    "plt.figure(figsize=(15,5))\n",
    "sns.swarmplot(data['Current status'],data['Age'],palette=sns.dark_palette(\"blue\", reverse=True))\n"
   ]
  },
  {
   "cell_type": "markdown",
   "metadata": {},
   "source": [
    "> ! This graph shows that the majority of people of hospitalized are in the age group of 20 - 79, and the deceased are the ones in the age group 60 - 80."
   ]
  },
  {
   "cell_type": "markdown",
   "metadata": {},
   "source": [
    "#### No. of days between change in status"
   ]
  },
  {
   "cell_type": "code",
   "execution_count": 25,
   "metadata": {},
   "outputs": [
    {
     "data": {
      "text/html": [
       "<div>\n",
       "<style scoped>\n",
       "    .dataframe tbody tr th:only-of-type {\n",
       "        vertical-align: middle;\n",
       "    }\n",
       "\n",
       "    .dataframe tbody tr th {\n",
       "        vertical-align: top;\n",
       "    }\n",
       "\n",
       "    .dataframe thead th {\n",
       "        text-align: right;\n",
       "    }\n",
       "</style>\n",
       "<table border=\"1\" class=\"dataframe\">\n",
       "  <thead>\n",
       "    <tr style=\"text-align: right;\">\n",
       "      <th></th>\n",
       "      <th>Government id</th>\n",
       "      <th>Diagnosed date</th>\n",
       "      <th>Age</th>\n",
       "      <th>Gender</th>\n",
       "      <th>Detected city</th>\n",
       "      <th>Detected city pt</th>\n",
       "      <th>Detected district</th>\n",
       "      <th>Detected state</th>\n",
       "      <th>Nationality</th>\n",
       "      <th>Current status</th>\n",
       "      <th>Status change date</th>\n",
       "      <th>Notes</th>\n",
       "      <th>Current location</th>\n",
       "      <th>Current location pt</th>\n",
       "      <th>Created on</th>\n",
       "      <th>Updated on</th>\n",
       "      <th>Contacts</th>\n",
       "    </tr>\n",
       "    <tr>\n",
       "      <th>ID</th>\n",
       "      <th></th>\n",
       "      <th></th>\n",
       "      <th></th>\n",
       "      <th></th>\n",
       "      <th></th>\n",
       "      <th></th>\n",
       "      <th></th>\n",
       "      <th></th>\n",
       "      <th></th>\n",
       "      <th></th>\n",
       "      <th></th>\n",
       "      <th></th>\n",
       "      <th></th>\n",
       "      <th></th>\n",
       "      <th></th>\n",
       "      <th></th>\n",
       "      <th></th>\n",
       "    </tr>\n",
       "  </thead>\n",
       "  <tbody>\n",
       "    <tr>\n",
       "      <td>1</td>\n",
       "      <td>KL-TS-P1</td>\n",
       "      <td>30/Jan/2020</td>\n",
       "      <td>20.0</td>\n",
       "      <td>Female</td>\n",
       "      <td>Thrissur</td>\n",
       "      <td>SRID=4326;POINT (76.21325419999999 10.5256264)</td>\n",
       "      <td>Thrissur</td>\n",
       "      <td>Kerala</td>\n",
       "      <td>India</td>\n",
       "      <td>Recovered</td>\n",
       "      <td>02/14/2020</td>\n",
       "      <td>Travelled from Wuhan.\\nStudent from Wuhan</td>\n",
       "      <td>None</td>\n",
       "      <td>SRID=4326;POINT (76.21325419999999 10.5256264)</td>\n",
       "      <td>03/23/2020 12:20 p.m.</td>\n",
       "      <td>03/23/2020 12:20 p.m.</td>\n",
       "      <td>None</td>\n",
       "    </tr>\n",
       "    <tr>\n",
       "      <td>2</td>\n",
       "      <td>KL-AL-P1</td>\n",
       "      <td>02/Feb/2020</td>\n",
       "      <td>NaN</td>\n",
       "      <td>Unknown</td>\n",
       "      <td>Alappuzha</td>\n",
       "      <td>SRID=4326;POINT (76.333482 9.498000100000001)</td>\n",
       "      <td>Alappuzha</td>\n",
       "      <td>Kerala</td>\n",
       "      <td>India</td>\n",
       "      <td>Recovered</td>\n",
       "      <td>02/14/2020</td>\n",
       "      <td>Travelled from Wuhan.\\nStudent from Wuhan</td>\n",
       "      <td>None</td>\n",
       "      <td>SRID=4326;POINT (76.333482 9.498000100000001)</td>\n",
       "      <td>03/23/2020 12:20 p.m.</td>\n",
       "      <td>03/23/2020 12:20 p.m.</td>\n",
       "      <td>None</td>\n",
       "    </tr>\n",
       "    <tr>\n",
       "      <td>3</td>\n",
       "      <td>KL-KS-P1</td>\n",
       "      <td>03/Feb/2020</td>\n",
       "      <td>NaN</td>\n",
       "      <td>Unknown</td>\n",
       "      <td>Kasargode</td>\n",
       "      <td>SRID=4326;POINT (80 20)</td>\n",
       "      <td>Kasaragod</td>\n",
       "      <td>Kerala</td>\n",
       "      <td>India</td>\n",
       "      <td>Recovered</td>\n",
       "      <td>02/14/2020</td>\n",
       "      <td>Travelled from Wuhan.\\nStudent from Wuhan</td>\n",
       "      <td>None</td>\n",
       "      <td>SRID=4326;POINT (80 20)</td>\n",
       "      <td>03/23/2020 12:20 p.m.</td>\n",
       "      <td>03/23/2020 12:20 p.m.</td>\n",
       "      <td>None</td>\n",
       "    </tr>\n",
       "    <tr>\n",
       "      <td>4</td>\n",
       "      <td>DL-P1</td>\n",
       "      <td>02/Mar/2020</td>\n",
       "      <td>45.0</td>\n",
       "      <td>Male</td>\n",
       "      <td>East Delhi (Mayur Vihar)</td>\n",
       "      <td>SRID=4326;POINT (80 20)</td>\n",
       "      <td>East Delhi</td>\n",
       "      <td>Delhi</td>\n",
       "      <td>India</td>\n",
       "      <td>Recovered</td>\n",
       "      <td>03/15/2020</td>\n",
       "      <td>Travelled from Austria, Italy.\\nTravel history...</td>\n",
       "      <td>None</td>\n",
       "      <td>SRID=4326;POINT (80 20)</td>\n",
       "      <td>03/23/2020 12:20 p.m.</td>\n",
       "      <td>03/23/2020 12:20 p.m.</td>\n",
       "      <td>Patient 22:, Patient 23:, Patient 24:, Patient...</td>\n",
       "    </tr>\n",
       "    <tr>\n",
       "      <td>5</td>\n",
       "      <td>TS-P1</td>\n",
       "      <td>02/Mar/2020</td>\n",
       "      <td>NaN</td>\n",
       "      <td>Unknown</td>\n",
       "      <td>Hyderabad</td>\n",
       "      <td>SRID=4326;POINT (78.4349398685041 17.4263524)</td>\n",
       "      <td>Hyderabad</td>\n",
       "      <td>Telangana</td>\n",
       "      <td>India</td>\n",
       "      <td>Recovered</td>\n",
       "      <td>03/02/2020</td>\n",
       "      <td>Travelled from Dubai, Singapore contact.\\nTrav...</td>\n",
       "      <td>None</td>\n",
       "      <td>SRID=4326;POINT (78.4349398685041 17.4263524)</td>\n",
       "      <td>03/23/2020 12:20 p.m.</td>\n",
       "      <td>03/23/2020 12:20 p.m.</td>\n",
       "      <td>None</td>\n",
       "    </tr>\n",
       "  </tbody>\n",
       "</table>\n",
       "</div>"
      ],
      "text/plain": [
       "   Government id Diagnosed date   Age   Gender             Detected city  \\\n",
       "ID                                                                         \n",
       "1       KL-TS-P1    30/Jan/2020  20.0   Female                  Thrissur   \n",
       "2       KL-AL-P1    02/Feb/2020   NaN  Unknown                 Alappuzha   \n",
       "3       KL-KS-P1    03/Feb/2020   NaN  Unknown                 Kasargode   \n",
       "4          DL-P1    02/Mar/2020  45.0     Male  East Delhi (Mayur Vihar)   \n",
       "5          TS-P1    02/Mar/2020   NaN  Unknown                 Hyderabad   \n",
       "\n",
       "                                  Detected city pt Detected district  \\\n",
       "ID                                                                     \n",
       "1   SRID=4326;POINT (76.21325419999999 10.5256264)          Thrissur   \n",
       "2    SRID=4326;POINT (76.333482 9.498000100000001)         Alappuzha   \n",
       "3                          SRID=4326;POINT (80 20)         Kasaragod   \n",
       "4                          SRID=4326;POINT (80 20)        East Delhi   \n",
       "5    SRID=4326;POINT (78.4349398685041 17.4263524)         Hyderabad   \n",
       "\n",
       "   Detected state Nationality Current status Status change date  \\\n",
       "ID                                                                \n",
       "1          Kerala       India      Recovered         02/14/2020   \n",
       "2          Kerala       India      Recovered         02/14/2020   \n",
       "3          Kerala       India      Recovered         02/14/2020   \n",
       "4           Delhi       India      Recovered         03/15/2020   \n",
       "5       Telangana       India      Recovered         03/02/2020   \n",
       "\n",
       "                                                Notes Current location  \\\n",
       "ID                                                                       \n",
       "1           Travelled from Wuhan.\\nStudent from Wuhan             None   \n",
       "2           Travelled from Wuhan.\\nStudent from Wuhan             None   \n",
       "3           Travelled from Wuhan.\\nStudent from Wuhan             None   \n",
       "4   Travelled from Austria, Italy.\\nTravel history...             None   \n",
       "5   Travelled from Dubai, Singapore contact.\\nTrav...             None   \n",
       "\n",
       "                               Current location pt             Created on  \\\n",
       "ID                                                                          \n",
       "1   SRID=4326;POINT (76.21325419999999 10.5256264)  03/23/2020 12:20 p.m.   \n",
       "2    SRID=4326;POINT (76.333482 9.498000100000001)  03/23/2020 12:20 p.m.   \n",
       "3                          SRID=4326;POINT (80 20)  03/23/2020 12:20 p.m.   \n",
       "4                          SRID=4326;POINT (80 20)  03/23/2020 12:20 p.m.   \n",
       "5    SRID=4326;POINT (78.4349398685041 17.4263524)  03/23/2020 12:20 p.m.   \n",
       "\n",
       "               Updated on                                           Contacts  \n",
       "ID                                                                            \n",
       "1   03/23/2020 12:20 p.m.                                               None  \n",
       "2   03/23/2020 12:20 p.m.                                               None  \n",
       "3   03/23/2020 12:20 p.m.                                               None  \n",
       "4   03/23/2020 12:20 p.m.  Patient 22:, Patient 23:, Patient 24:, Patient...  \n",
       "5   03/23/2020 12:20 p.m.                                               None  "
      ]
     },
     "execution_count": 25,
     "metadata": {},
     "output_type": "execute_result"
    }
   ],
   "source": [
    "data.head()"
   ]
  },
  {
   "cell_type": "markdown",
   "metadata": {},
   "source": [
    "#### Days taken to change status(Hospitalized/Death/Recover)"
   ]
  },
  {
   "cell_type": "code",
   "execution_count": 26,
   "metadata": {},
   "outputs": [],
   "source": [
    "data['status change difference'] = pd.to_datetime(data['Status change date'])-pd.to_datetime(data['Diagnosed date'])"
   ]
  },
  {
   "cell_type": "code",
   "execution_count": 27,
   "metadata": {},
   "outputs": [
    {
     "data": {
      "text/plain": [
       "ID\n",
       "1      15 days 00:00:00.000000000\n",
       "2      12 days 00:00:00.000000000\n",
       "3      11 days 00:00:00.000000000\n",
       "4      13 days 00:00:00.000000000\n",
       "5       0 days 00:00:00.000000000\n",
       "                  ...            \n",
       "540     0 days 00:00:00.000000000\n",
       "541     0 days 00:00:00.000000000\n",
       "542     0 days 00:00:00.000000000\n",
       "543     0 days 00:00:00.000000000\n",
       "544     0 days 00:00:00.000000000\n",
       "Name: status change difference, Length: 544, dtype: object"
      ]
     },
     "execution_count": 27,
     "metadata": {},
     "output_type": "execute_result"
    }
   ],
   "source": [
    "data['status change difference'].astype('str')"
   ]
  },
  {
   "cell_type": "code",
   "execution_count": 28,
   "metadata": {},
   "outputs": [
    {
     "data": {
      "text/html": [
       "<div>\n",
       "<style scoped>\n",
       "    .dataframe tbody tr th:only-of-type {\n",
       "        vertical-align: middle;\n",
       "    }\n",
       "\n",
       "    .dataframe tbody tr th {\n",
       "        vertical-align: top;\n",
       "    }\n",
       "\n",
       "    .dataframe thead th {\n",
       "        text-align: right;\n",
       "    }\n",
       "</style>\n",
       "<table border=\"1\" class=\"dataframe\">\n",
       "  <thead>\n",
       "    <tr style=\"text-align: right;\">\n",
       "      <th></th>\n",
       "      <th>Government id</th>\n",
       "      <th>Diagnosed date</th>\n",
       "      <th>Age</th>\n",
       "      <th>Gender</th>\n",
       "      <th>Detected city</th>\n",
       "      <th>Detected city pt</th>\n",
       "      <th>Detected district</th>\n",
       "      <th>Detected state</th>\n",
       "      <th>Nationality</th>\n",
       "      <th>Current status</th>\n",
       "      <th>Status change date</th>\n",
       "      <th>Notes</th>\n",
       "      <th>Current location</th>\n",
       "      <th>Current location pt</th>\n",
       "      <th>Created on</th>\n",
       "      <th>Updated on</th>\n",
       "      <th>Contacts</th>\n",
       "      <th>status change difference</th>\n",
       "    </tr>\n",
       "    <tr>\n",
       "      <th>ID</th>\n",
       "      <th></th>\n",
       "      <th></th>\n",
       "      <th></th>\n",
       "      <th></th>\n",
       "      <th></th>\n",
       "      <th></th>\n",
       "      <th></th>\n",
       "      <th></th>\n",
       "      <th></th>\n",
       "      <th></th>\n",
       "      <th></th>\n",
       "      <th></th>\n",
       "      <th></th>\n",
       "      <th></th>\n",
       "      <th></th>\n",
       "      <th></th>\n",
       "      <th></th>\n",
       "      <th></th>\n",
       "    </tr>\n",
       "  </thead>\n",
       "  <tbody>\n",
       "    <tr>\n",
       "      <td>540</td>\n",
       "      <td>None</td>\n",
       "      <td>24/Mar/2020</td>\n",
       "      <td>NaN</td>\n",
       "      <td>Unknown</td>\n",
       "      <td>Mumbai</td>\n",
       "      <td>SRID=4326;POINT (72.8353355 18.9387711)</td>\n",
       "      <td>None</td>\n",
       "      <td>Maharashtra</td>\n",
       "      <td>None</td>\n",
       "      <td>Hospitalized</td>\n",
       "      <td>03/24/2020</td>\n",
       "      <td>Details awaited</td>\n",
       "      <td>None</td>\n",
       "      <td>SRID=4326;POINT (72.8353355 18.9387711)</td>\n",
       "      <td>03/24/2020 4:54 p.m.</td>\n",
       "      <td>03/24/2020 4:54 p.m.</td>\n",
       "      <td>None</td>\n",
       "      <td>0 days</td>\n",
       "    </tr>\n",
       "    <tr>\n",
       "      <td>541</td>\n",
       "      <td>None</td>\n",
       "      <td>24/Mar/2020</td>\n",
       "      <td>NaN</td>\n",
       "      <td>Unknown</td>\n",
       "      <td>Mumbai</td>\n",
       "      <td>SRID=4326;POINT (72.8353355 18.9387711)</td>\n",
       "      <td>None</td>\n",
       "      <td>Maharashtra</td>\n",
       "      <td>None</td>\n",
       "      <td>Hospitalized</td>\n",
       "      <td>03/24/2020</td>\n",
       "      <td>Details awaited</td>\n",
       "      <td>None</td>\n",
       "      <td>SRID=4326;POINT (72.8353355 18.9387711)</td>\n",
       "      <td>03/24/2020 4:54 p.m.</td>\n",
       "      <td>03/24/2020 4:54 p.m.</td>\n",
       "      <td>None</td>\n",
       "      <td>0 days</td>\n",
       "    </tr>\n",
       "    <tr>\n",
       "      <td>542</td>\n",
       "      <td>None</td>\n",
       "      <td>24/Mar/2020</td>\n",
       "      <td>NaN</td>\n",
       "      <td>Unknown</td>\n",
       "      <td>Mumbai</td>\n",
       "      <td>SRID=4326;POINT (72.8353355 18.9387711)</td>\n",
       "      <td>None</td>\n",
       "      <td>Maharashtra</td>\n",
       "      <td>None</td>\n",
       "      <td>Hospitalized</td>\n",
       "      <td>03/24/2020</td>\n",
       "      <td>Details awaited</td>\n",
       "      <td>None</td>\n",
       "      <td>SRID=4326;POINT (72.8353355 18.9387711)</td>\n",
       "      <td>03/24/2020 4:54 p.m.</td>\n",
       "      <td>03/24/2020 4:54 p.m.</td>\n",
       "      <td>None</td>\n",
       "      <td>0 days</td>\n",
       "    </tr>\n",
       "    <tr>\n",
       "      <td>543</td>\n",
       "      <td>None</td>\n",
       "      <td>24/Mar/2020</td>\n",
       "      <td>NaN</td>\n",
       "      <td>Unknown</td>\n",
       "      <td>Ahmednagar</td>\n",
       "      <td>SRID=4326;POINT (74.85802430085195 19.1627725)</td>\n",
       "      <td>None</td>\n",
       "      <td>Maharashtra</td>\n",
       "      <td>None</td>\n",
       "      <td>Hospitalized</td>\n",
       "      <td>03/24/2020</td>\n",
       "      <td>Details awaited</td>\n",
       "      <td>None</td>\n",
       "      <td>SRID=4326;POINT (74.85802430085195 19.1627725)</td>\n",
       "      <td>03/24/2020 4:54 p.m.</td>\n",
       "      <td>03/24/2020 4:54 p.m.</td>\n",
       "      <td>None</td>\n",
       "      <td>0 days</td>\n",
       "    </tr>\n",
       "    <tr>\n",
       "      <td>544</td>\n",
       "      <td>None</td>\n",
       "      <td>24/Mar/2020</td>\n",
       "      <td>47.0</td>\n",
       "      <td>Female</td>\n",
       "      <td>Noida</td>\n",
       "      <td>SRID=4326;POINT (77.3151087 28.5808133)</td>\n",
       "      <td>None</td>\n",
       "      <td>Delhi</td>\n",
       "      <td>None</td>\n",
       "      <td>Hospitalized</td>\n",
       "      <td>03/24/2020</td>\n",
       "      <td>No travel history</td>\n",
       "      <td>None</td>\n",
       "      <td>SRID=4326;POINT (77.3151087 28.5808133)</td>\n",
       "      <td>03/24/2020 4:54 p.m.</td>\n",
       "      <td>03/24/2020 4:54 p.m.</td>\n",
       "      <td>None</td>\n",
       "      <td>0 days</td>\n",
       "    </tr>\n",
       "  </tbody>\n",
       "</table>\n",
       "</div>"
      ],
      "text/plain": [
       "    Government id Diagnosed date   Age   Gender Detected city  \\\n",
       "ID                                                              \n",
       "540          None    24/Mar/2020   NaN  Unknown        Mumbai   \n",
       "541          None    24/Mar/2020   NaN  Unknown        Mumbai   \n",
       "542          None    24/Mar/2020   NaN  Unknown        Mumbai   \n",
       "543          None    24/Mar/2020   NaN  Unknown    Ahmednagar   \n",
       "544          None    24/Mar/2020  47.0   Female         Noida   \n",
       "\n",
       "                                   Detected city pt Detected district  \\\n",
       "ID                                                                      \n",
       "540         SRID=4326;POINT (72.8353355 18.9387711)              None   \n",
       "541         SRID=4326;POINT (72.8353355 18.9387711)              None   \n",
       "542         SRID=4326;POINT (72.8353355 18.9387711)              None   \n",
       "543  SRID=4326;POINT (74.85802430085195 19.1627725)              None   \n",
       "544         SRID=4326;POINT (77.3151087 28.5808133)              None   \n",
       "\n",
       "    Detected state Nationality Current status Status change date  \\\n",
       "ID                                                                 \n",
       "540    Maharashtra        None   Hospitalized         03/24/2020   \n",
       "541    Maharashtra        None   Hospitalized         03/24/2020   \n",
       "542    Maharashtra        None   Hospitalized         03/24/2020   \n",
       "543    Maharashtra        None   Hospitalized         03/24/2020   \n",
       "544          Delhi        None   Hospitalized         03/24/2020   \n",
       "\n",
       "                 Notes Current location  \\\n",
       "ID                                        \n",
       "540    Details awaited             None   \n",
       "541    Details awaited             None   \n",
       "542    Details awaited             None   \n",
       "543    Details awaited             None   \n",
       "544  No travel history             None   \n",
       "\n",
       "                                Current location pt            Created on  \\\n",
       "ID                                                                          \n",
       "540         SRID=4326;POINT (72.8353355 18.9387711)  03/24/2020 4:54 p.m.   \n",
       "541         SRID=4326;POINT (72.8353355 18.9387711)  03/24/2020 4:54 p.m.   \n",
       "542         SRID=4326;POINT (72.8353355 18.9387711)  03/24/2020 4:54 p.m.   \n",
       "543  SRID=4326;POINT (74.85802430085195 19.1627725)  03/24/2020 4:54 p.m.   \n",
       "544         SRID=4326;POINT (77.3151087 28.5808133)  03/24/2020 4:54 p.m.   \n",
       "\n",
       "               Updated on Contacts status change difference  \n",
       "ID                                                           \n",
       "540  03/24/2020 4:54 p.m.     None                   0 days  \n",
       "541  03/24/2020 4:54 p.m.     None                   0 days  \n",
       "542  03/24/2020 4:54 p.m.     None                   0 days  \n",
       "543  03/24/2020 4:54 p.m.     None                   0 days  \n",
       "544  03/24/2020 4:54 p.m.     None                   0 days  "
      ]
     },
     "execution_count": 28,
     "metadata": {},
     "output_type": "execute_result"
    }
   ],
   "source": [
    "data.tail()"
   ]
  },
  {
   "cell_type": "code",
   "execution_count": 29,
   "metadata": {},
   "outputs": [
    {
     "data": {
      "text/plain": [
       "ID\n",
       "1     2020-01-30\n",
       "2     2020-02-02\n",
       "3     2020-02-03\n",
       "4     2020-03-02\n",
       "5     2020-03-02\n",
       "         ...    \n",
       "540   2020-03-24\n",
       "541   2020-03-24\n",
       "542   2020-03-24\n",
       "543   2020-03-24\n",
       "544   2020-03-24\n",
       "Name: Diagnosed date, Length: 544, dtype: datetime64[ns]"
      ]
     },
     "execution_count": 29,
     "metadata": {},
     "output_type": "execute_result"
    }
   ],
   "source": [
    "pd.to_datetime(data['Diagnosed date'])"
   ]
  },
  {
   "cell_type": "code",
   "execution_count": 30,
   "metadata": {},
   "outputs": [
    {
     "data": {
      "text/plain": [
       "ID\n",
       "1     2020-02-14\n",
       "2     2020-02-14\n",
       "3     2020-02-14\n",
       "4     2020-03-15\n",
       "5     2020-03-02\n",
       "         ...    \n",
       "540   2020-03-24\n",
       "541   2020-03-24\n",
       "542   2020-03-24\n",
       "543   2020-03-24\n",
       "544   2020-03-24\n",
       "Name: Status change date, Length: 544, dtype: datetime64[ns]"
      ]
     },
     "execution_count": 30,
     "metadata": {},
     "output_type": "execute_result"
    }
   ],
   "source": [
    "pd.to_datetime(data['Status change date'])"
   ]
  },
  {
   "cell_type": "code",
   "execution_count": 31,
   "metadata": {},
   "outputs": [
    {
     "data": {
      "text/plain": [
       "0 days      426\n",
       "-29 days    102\n",
       "1 days        3\n",
       "-1 days       3\n",
       "8 days        2\n",
       "12 days       1\n",
       "13 days       1\n",
       "2 days        1\n",
       "3 days        1\n",
       "9 days        1\n",
       "15 days       1\n",
       "10 days       1\n",
       "11 days       1\n",
       "Name: status change difference, dtype: int64"
      ]
     },
     "execution_count": 31,
     "metadata": {},
     "output_type": "execute_result"
    }
   ],
   "source": [
    "data['status change difference'].value_counts()"
   ]
  },
  {
   "cell_type": "markdown",
   "metadata": {},
   "source": [
    "### As we can see that many of the dates in the 'Status Change Date' are incorrect due to which the status change difference comes out to be negative."
   ]
  },
  {
   "cell_type": "markdown",
   "metadata": {},
   "source": [
    "---"
   ]
  },
  {
   "cell_type": "code",
   "execution_count": 32,
   "metadata": {},
   "outputs": [],
   "source": [
    "data.drop('status change difference',axis=1,inplace=True\n",
    "         )"
   ]
  },
  {
   "cell_type": "code",
   "execution_count": 33,
   "metadata": {},
   "outputs": [
    {
     "data": {
      "text/html": [
       "<div>\n",
       "<style scoped>\n",
       "    .dataframe tbody tr th:only-of-type {\n",
       "        vertical-align: middle;\n",
       "    }\n",
       "\n",
       "    .dataframe tbody tr th {\n",
       "        vertical-align: top;\n",
       "    }\n",
       "\n",
       "    .dataframe thead th {\n",
       "        text-align: right;\n",
       "    }\n",
       "</style>\n",
       "<table border=\"1\" class=\"dataframe\">\n",
       "  <thead>\n",
       "    <tr style=\"text-align: right;\">\n",
       "      <th></th>\n",
       "      <th>Government id</th>\n",
       "      <th>Diagnosed date</th>\n",
       "      <th>Age</th>\n",
       "      <th>Gender</th>\n",
       "      <th>Detected city</th>\n",
       "      <th>Detected city pt</th>\n",
       "      <th>Detected district</th>\n",
       "      <th>Detected state</th>\n",
       "      <th>Nationality</th>\n",
       "      <th>Current status</th>\n",
       "      <th>Status change date</th>\n",
       "      <th>Notes</th>\n",
       "      <th>Current location</th>\n",
       "      <th>Current location pt</th>\n",
       "      <th>Created on</th>\n",
       "      <th>Updated on</th>\n",
       "      <th>Contacts</th>\n",
       "    </tr>\n",
       "    <tr>\n",
       "      <th>ID</th>\n",
       "      <th></th>\n",
       "      <th></th>\n",
       "      <th></th>\n",
       "      <th></th>\n",
       "      <th></th>\n",
       "      <th></th>\n",
       "      <th></th>\n",
       "      <th></th>\n",
       "      <th></th>\n",
       "      <th></th>\n",
       "      <th></th>\n",
       "      <th></th>\n",
       "      <th></th>\n",
       "      <th></th>\n",
       "      <th></th>\n",
       "      <th></th>\n",
       "      <th></th>\n",
       "    </tr>\n",
       "  </thead>\n",
       "  <tbody>\n",
       "    <tr>\n",
       "      <td>1</td>\n",
       "      <td>KL-TS-P1</td>\n",
       "      <td>30/Jan/2020</td>\n",
       "      <td>20.0</td>\n",
       "      <td>Female</td>\n",
       "      <td>Thrissur</td>\n",
       "      <td>SRID=4326;POINT (76.21325419999999 10.5256264)</td>\n",
       "      <td>Thrissur</td>\n",
       "      <td>Kerala</td>\n",
       "      <td>India</td>\n",
       "      <td>Recovered</td>\n",
       "      <td>02/14/2020</td>\n",
       "      <td>Travelled from Wuhan.\\nStudent from Wuhan</td>\n",
       "      <td>None</td>\n",
       "      <td>SRID=4326;POINT (76.21325419999999 10.5256264)</td>\n",
       "      <td>03/23/2020 12:20 p.m.</td>\n",
       "      <td>03/23/2020 12:20 p.m.</td>\n",
       "      <td>None</td>\n",
       "    </tr>\n",
       "    <tr>\n",
       "      <td>2</td>\n",
       "      <td>KL-AL-P1</td>\n",
       "      <td>02/Feb/2020</td>\n",
       "      <td>NaN</td>\n",
       "      <td>Unknown</td>\n",
       "      <td>Alappuzha</td>\n",
       "      <td>SRID=4326;POINT (76.333482 9.498000100000001)</td>\n",
       "      <td>Alappuzha</td>\n",
       "      <td>Kerala</td>\n",
       "      <td>India</td>\n",
       "      <td>Recovered</td>\n",
       "      <td>02/14/2020</td>\n",
       "      <td>Travelled from Wuhan.\\nStudent from Wuhan</td>\n",
       "      <td>None</td>\n",
       "      <td>SRID=4326;POINT (76.333482 9.498000100000001)</td>\n",
       "      <td>03/23/2020 12:20 p.m.</td>\n",
       "      <td>03/23/2020 12:20 p.m.</td>\n",
       "      <td>None</td>\n",
       "    </tr>\n",
       "    <tr>\n",
       "      <td>3</td>\n",
       "      <td>KL-KS-P1</td>\n",
       "      <td>03/Feb/2020</td>\n",
       "      <td>NaN</td>\n",
       "      <td>Unknown</td>\n",
       "      <td>Kasargode</td>\n",
       "      <td>SRID=4326;POINT (80 20)</td>\n",
       "      <td>Kasaragod</td>\n",
       "      <td>Kerala</td>\n",
       "      <td>India</td>\n",
       "      <td>Recovered</td>\n",
       "      <td>02/14/2020</td>\n",
       "      <td>Travelled from Wuhan.\\nStudent from Wuhan</td>\n",
       "      <td>None</td>\n",
       "      <td>SRID=4326;POINT (80 20)</td>\n",
       "      <td>03/23/2020 12:20 p.m.</td>\n",
       "      <td>03/23/2020 12:20 p.m.</td>\n",
       "      <td>None</td>\n",
       "    </tr>\n",
       "    <tr>\n",
       "      <td>4</td>\n",
       "      <td>DL-P1</td>\n",
       "      <td>02/Mar/2020</td>\n",
       "      <td>45.0</td>\n",
       "      <td>Male</td>\n",
       "      <td>East Delhi (Mayur Vihar)</td>\n",
       "      <td>SRID=4326;POINT (80 20)</td>\n",
       "      <td>East Delhi</td>\n",
       "      <td>Delhi</td>\n",
       "      <td>India</td>\n",
       "      <td>Recovered</td>\n",
       "      <td>03/15/2020</td>\n",
       "      <td>Travelled from Austria, Italy.\\nTravel history...</td>\n",
       "      <td>None</td>\n",
       "      <td>SRID=4326;POINT (80 20)</td>\n",
       "      <td>03/23/2020 12:20 p.m.</td>\n",
       "      <td>03/23/2020 12:20 p.m.</td>\n",
       "      <td>Patient 22:, Patient 23:, Patient 24:, Patient...</td>\n",
       "    </tr>\n",
       "    <tr>\n",
       "      <td>5</td>\n",
       "      <td>TS-P1</td>\n",
       "      <td>02/Mar/2020</td>\n",
       "      <td>NaN</td>\n",
       "      <td>Unknown</td>\n",
       "      <td>Hyderabad</td>\n",
       "      <td>SRID=4326;POINT (78.4349398685041 17.4263524)</td>\n",
       "      <td>Hyderabad</td>\n",
       "      <td>Telangana</td>\n",
       "      <td>India</td>\n",
       "      <td>Recovered</td>\n",
       "      <td>03/02/2020</td>\n",
       "      <td>Travelled from Dubai, Singapore contact.\\nTrav...</td>\n",
       "      <td>None</td>\n",
       "      <td>SRID=4326;POINT (78.4349398685041 17.4263524)</td>\n",
       "      <td>03/23/2020 12:20 p.m.</td>\n",
       "      <td>03/23/2020 12:20 p.m.</td>\n",
       "      <td>None</td>\n",
       "    </tr>\n",
       "  </tbody>\n",
       "</table>\n",
       "</div>"
      ],
      "text/plain": [
       "   Government id Diagnosed date   Age   Gender             Detected city  \\\n",
       "ID                                                                         \n",
       "1       KL-TS-P1    30/Jan/2020  20.0   Female                  Thrissur   \n",
       "2       KL-AL-P1    02/Feb/2020   NaN  Unknown                 Alappuzha   \n",
       "3       KL-KS-P1    03/Feb/2020   NaN  Unknown                 Kasargode   \n",
       "4          DL-P1    02/Mar/2020  45.0     Male  East Delhi (Mayur Vihar)   \n",
       "5          TS-P1    02/Mar/2020   NaN  Unknown                 Hyderabad   \n",
       "\n",
       "                                  Detected city pt Detected district  \\\n",
       "ID                                                                     \n",
       "1   SRID=4326;POINT (76.21325419999999 10.5256264)          Thrissur   \n",
       "2    SRID=4326;POINT (76.333482 9.498000100000001)         Alappuzha   \n",
       "3                          SRID=4326;POINT (80 20)         Kasaragod   \n",
       "4                          SRID=4326;POINT (80 20)        East Delhi   \n",
       "5    SRID=4326;POINT (78.4349398685041 17.4263524)         Hyderabad   \n",
       "\n",
       "   Detected state Nationality Current status Status change date  \\\n",
       "ID                                                                \n",
       "1          Kerala       India      Recovered         02/14/2020   \n",
       "2          Kerala       India      Recovered         02/14/2020   \n",
       "3          Kerala       India      Recovered         02/14/2020   \n",
       "4           Delhi       India      Recovered         03/15/2020   \n",
       "5       Telangana       India      Recovered         03/02/2020   \n",
       "\n",
       "                                                Notes Current location  \\\n",
       "ID                                                                       \n",
       "1           Travelled from Wuhan.\\nStudent from Wuhan             None   \n",
       "2           Travelled from Wuhan.\\nStudent from Wuhan             None   \n",
       "3           Travelled from Wuhan.\\nStudent from Wuhan             None   \n",
       "4   Travelled from Austria, Italy.\\nTravel history...             None   \n",
       "5   Travelled from Dubai, Singapore contact.\\nTrav...             None   \n",
       "\n",
       "                               Current location pt             Created on  \\\n",
       "ID                                                                          \n",
       "1   SRID=4326;POINT (76.21325419999999 10.5256264)  03/23/2020 12:20 p.m.   \n",
       "2    SRID=4326;POINT (76.333482 9.498000100000001)  03/23/2020 12:20 p.m.   \n",
       "3                          SRID=4326;POINT (80 20)  03/23/2020 12:20 p.m.   \n",
       "4                          SRID=4326;POINT (80 20)  03/23/2020 12:20 p.m.   \n",
       "5    SRID=4326;POINT (78.4349398685041 17.4263524)  03/23/2020 12:20 p.m.   \n",
       "\n",
       "               Updated on                                           Contacts  \n",
       "ID                                                                            \n",
       "1   03/23/2020 12:20 p.m.                                               None  \n",
       "2   03/23/2020 12:20 p.m.                                               None  \n",
       "3   03/23/2020 12:20 p.m.                                               None  \n",
       "4   03/23/2020 12:20 p.m.  Patient 22:, Patient 23:, Patient 24:, Patient...  \n",
       "5   03/23/2020 12:20 p.m.                                               None  "
      ]
     },
     "execution_count": 33,
     "metadata": {},
     "output_type": "execute_result"
    }
   ],
   "source": [
    "data.head()"
   ]
  },
  {
   "cell_type": "code",
   "execution_count": 34,
   "metadata": {},
   "outputs": [],
   "source": [
    "data['Transmission info'] = data['Contacts'].apply(lambda x : False if x == None else True)"
   ]
  },
  {
   "cell_type": "code",
   "execution_count": 35,
   "metadata": {},
   "outputs": [
    {
     "data": {
      "text/html": [
       "<div>\n",
       "<style scoped>\n",
       "    .dataframe tbody tr th:only-of-type {\n",
       "        vertical-align: middle;\n",
       "    }\n",
       "\n",
       "    .dataframe tbody tr th {\n",
       "        vertical-align: top;\n",
       "    }\n",
       "\n",
       "    .dataframe thead th {\n",
       "        text-align: right;\n",
       "    }\n",
       "</style>\n",
       "<table border=\"1\" class=\"dataframe\">\n",
       "  <thead>\n",
       "    <tr style=\"text-align: right;\">\n",
       "      <th></th>\n",
       "      <th>Government id</th>\n",
       "      <th>Diagnosed date</th>\n",
       "      <th>Age</th>\n",
       "      <th>Gender</th>\n",
       "      <th>Detected city</th>\n",
       "      <th>Detected city pt</th>\n",
       "      <th>Detected district</th>\n",
       "      <th>Detected state</th>\n",
       "      <th>Nationality</th>\n",
       "      <th>Current status</th>\n",
       "      <th>Status change date</th>\n",
       "      <th>Notes</th>\n",
       "      <th>Current location</th>\n",
       "      <th>Current location pt</th>\n",
       "      <th>Created on</th>\n",
       "      <th>Updated on</th>\n",
       "      <th>Contacts</th>\n",
       "      <th>Transmission info</th>\n",
       "    </tr>\n",
       "    <tr>\n",
       "      <th>ID</th>\n",
       "      <th></th>\n",
       "      <th></th>\n",
       "      <th></th>\n",
       "      <th></th>\n",
       "      <th></th>\n",
       "      <th></th>\n",
       "      <th></th>\n",
       "      <th></th>\n",
       "      <th></th>\n",
       "      <th></th>\n",
       "      <th></th>\n",
       "      <th></th>\n",
       "      <th></th>\n",
       "      <th></th>\n",
       "      <th></th>\n",
       "      <th></th>\n",
       "      <th></th>\n",
       "      <th></th>\n",
       "    </tr>\n",
       "  </thead>\n",
       "  <tbody>\n",
       "    <tr>\n",
       "      <td>1</td>\n",
       "      <td>KL-TS-P1</td>\n",
       "      <td>30/Jan/2020</td>\n",
       "      <td>20.0</td>\n",
       "      <td>Female</td>\n",
       "      <td>Thrissur</td>\n",
       "      <td>SRID=4326;POINT (76.21325419999999 10.5256264)</td>\n",
       "      <td>Thrissur</td>\n",
       "      <td>Kerala</td>\n",
       "      <td>India</td>\n",
       "      <td>Recovered</td>\n",
       "      <td>02/14/2020</td>\n",
       "      <td>Travelled from Wuhan.\\nStudent from Wuhan</td>\n",
       "      <td>None</td>\n",
       "      <td>SRID=4326;POINT (76.21325419999999 10.5256264)</td>\n",
       "      <td>03/23/2020 12:20 p.m.</td>\n",
       "      <td>03/23/2020 12:20 p.m.</td>\n",
       "      <td>None</td>\n",
       "      <td>False</td>\n",
       "    </tr>\n",
       "    <tr>\n",
       "      <td>2</td>\n",
       "      <td>KL-AL-P1</td>\n",
       "      <td>02/Feb/2020</td>\n",
       "      <td>NaN</td>\n",
       "      <td>Unknown</td>\n",
       "      <td>Alappuzha</td>\n",
       "      <td>SRID=4326;POINT (76.333482 9.498000100000001)</td>\n",
       "      <td>Alappuzha</td>\n",
       "      <td>Kerala</td>\n",
       "      <td>India</td>\n",
       "      <td>Recovered</td>\n",
       "      <td>02/14/2020</td>\n",
       "      <td>Travelled from Wuhan.\\nStudent from Wuhan</td>\n",
       "      <td>None</td>\n",
       "      <td>SRID=4326;POINT (76.333482 9.498000100000001)</td>\n",
       "      <td>03/23/2020 12:20 p.m.</td>\n",
       "      <td>03/23/2020 12:20 p.m.</td>\n",
       "      <td>None</td>\n",
       "      <td>False</td>\n",
       "    </tr>\n",
       "    <tr>\n",
       "      <td>3</td>\n",
       "      <td>KL-KS-P1</td>\n",
       "      <td>03/Feb/2020</td>\n",
       "      <td>NaN</td>\n",
       "      <td>Unknown</td>\n",
       "      <td>Kasargode</td>\n",
       "      <td>SRID=4326;POINT (80 20)</td>\n",
       "      <td>Kasaragod</td>\n",
       "      <td>Kerala</td>\n",
       "      <td>India</td>\n",
       "      <td>Recovered</td>\n",
       "      <td>02/14/2020</td>\n",
       "      <td>Travelled from Wuhan.\\nStudent from Wuhan</td>\n",
       "      <td>None</td>\n",
       "      <td>SRID=4326;POINT (80 20)</td>\n",
       "      <td>03/23/2020 12:20 p.m.</td>\n",
       "      <td>03/23/2020 12:20 p.m.</td>\n",
       "      <td>None</td>\n",
       "      <td>False</td>\n",
       "    </tr>\n",
       "    <tr>\n",
       "      <td>4</td>\n",
       "      <td>DL-P1</td>\n",
       "      <td>02/Mar/2020</td>\n",
       "      <td>45.0</td>\n",
       "      <td>Male</td>\n",
       "      <td>East Delhi (Mayur Vihar)</td>\n",
       "      <td>SRID=4326;POINT (80 20)</td>\n",
       "      <td>East Delhi</td>\n",
       "      <td>Delhi</td>\n",
       "      <td>India</td>\n",
       "      <td>Recovered</td>\n",
       "      <td>03/15/2020</td>\n",
       "      <td>Travelled from Austria, Italy.\\nTravel history...</td>\n",
       "      <td>None</td>\n",
       "      <td>SRID=4326;POINT (80 20)</td>\n",
       "      <td>03/23/2020 12:20 p.m.</td>\n",
       "      <td>03/23/2020 12:20 p.m.</td>\n",
       "      <td>Patient 22:, Patient 23:, Patient 24:, Patient...</td>\n",
       "      <td>True</td>\n",
       "    </tr>\n",
       "    <tr>\n",
       "      <td>5</td>\n",
       "      <td>TS-P1</td>\n",
       "      <td>02/Mar/2020</td>\n",
       "      <td>NaN</td>\n",
       "      <td>Unknown</td>\n",
       "      <td>Hyderabad</td>\n",
       "      <td>SRID=4326;POINT (78.4349398685041 17.4263524)</td>\n",
       "      <td>Hyderabad</td>\n",
       "      <td>Telangana</td>\n",
       "      <td>India</td>\n",
       "      <td>Recovered</td>\n",
       "      <td>03/02/2020</td>\n",
       "      <td>Travelled from Dubai, Singapore contact.\\nTrav...</td>\n",
       "      <td>None</td>\n",
       "      <td>SRID=4326;POINT (78.4349398685041 17.4263524)</td>\n",
       "      <td>03/23/2020 12:20 p.m.</td>\n",
       "      <td>03/23/2020 12:20 p.m.</td>\n",
       "      <td>None</td>\n",
       "      <td>False</td>\n",
       "    </tr>\n",
       "  </tbody>\n",
       "</table>\n",
       "</div>"
      ],
      "text/plain": [
       "   Government id Diagnosed date   Age   Gender             Detected city  \\\n",
       "ID                                                                         \n",
       "1       KL-TS-P1    30/Jan/2020  20.0   Female                  Thrissur   \n",
       "2       KL-AL-P1    02/Feb/2020   NaN  Unknown                 Alappuzha   \n",
       "3       KL-KS-P1    03/Feb/2020   NaN  Unknown                 Kasargode   \n",
       "4          DL-P1    02/Mar/2020  45.0     Male  East Delhi (Mayur Vihar)   \n",
       "5          TS-P1    02/Mar/2020   NaN  Unknown                 Hyderabad   \n",
       "\n",
       "                                  Detected city pt Detected district  \\\n",
       "ID                                                                     \n",
       "1   SRID=4326;POINT (76.21325419999999 10.5256264)          Thrissur   \n",
       "2    SRID=4326;POINT (76.333482 9.498000100000001)         Alappuzha   \n",
       "3                          SRID=4326;POINT (80 20)         Kasaragod   \n",
       "4                          SRID=4326;POINT (80 20)        East Delhi   \n",
       "5    SRID=4326;POINT (78.4349398685041 17.4263524)         Hyderabad   \n",
       "\n",
       "   Detected state Nationality Current status Status change date  \\\n",
       "ID                                                                \n",
       "1          Kerala       India      Recovered         02/14/2020   \n",
       "2          Kerala       India      Recovered         02/14/2020   \n",
       "3          Kerala       India      Recovered         02/14/2020   \n",
       "4           Delhi       India      Recovered         03/15/2020   \n",
       "5       Telangana       India      Recovered         03/02/2020   \n",
       "\n",
       "                                                Notes Current location  \\\n",
       "ID                                                                       \n",
       "1           Travelled from Wuhan.\\nStudent from Wuhan             None   \n",
       "2           Travelled from Wuhan.\\nStudent from Wuhan             None   \n",
       "3           Travelled from Wuhan.\\nStudent from Wuhan             None   \n",
       "4   Travelled from Austria, Italy.\\nTravel history...             None   \n",
       "5   Travelled from Dubai, Singapore contact.\\nTrav...             None   \n",
       "\n",
       "                               Current location pt             Created on  \\\n",
       "ID                                                                          \n",
       "1   SRID=4326;POINT (76.21325419999999 10.5256264)  03/23/2020 12:20 p.m.   \n",
       "2    SRID=4326;POINT (76.333482 9.498000100000001)  03/23/2020 12:20 p.m.   \n",
       "3                          SRID=4326;POINT (80 20)  03/23/2020 12:20 p.m.   \n",
       "4                          SRID=4326;POINT (80 20)  03/23/2020 12:20 p.m.   \n",
       "5    SRID=4326;POINT (78.4349398685041 17.4263524)  03/23/2020 12:20 p.m.   \n",
       "\n",
       "               Updated on                                           Contacts  \\\n",
       "ID                                                                             \n",
       "1   03/23/2020 12:20 p.m.                                               None   \n",
       "2   03/23/2020 12:20 p.m.                                               None   \n",
       "3   03/23/2020 12:20 p.m.                                               None   \n",
       "4   03/23/2020 12:20 p.m.  Patient 22:, Patient 23:, Patient 24:, Patient...   \n",
       "5   03/23/2020 12:20 p.m.                                               None   \n",
       "\n",
       "    Transmission info  \n",
       "ID                     \n",
       "1               False  \n",
       "2               False  \n",
       "3               False  \n",
       "4                True  \n",
       "5               False  "
      ]
     },
     "execution_count": 35,
     "metadata": {},
     "output_type": "execute_result"
    }
   ],
   "source": [
    "data.head()"
   ]
  },
  {
   "cell_type": "code",
   "execution_count": 36,
   "metadata": {},
   "outputs": [
    {
     "data": {
      "text/plain": [
       "False    391\n",
       "True     153\n",
       "Name: Transmission info, dtype: int64"
      ]
     },
     "execution_count": 36,
     "metadata": {},
     "output_type": "execute_result"
    }
   ],
   "source": [
    "data['Transmission info'].value_counts()"
   ]
  },
  {
   "cell_type": "code",
   "execution_count": 37,
   "metadata": {},
   "outputs": [
    {
     "data": {
      "text/plain": [
       "<matplotlib.axes._subplots.AxesSubplot at 0x1a25522f10>"
      ]
     },
     "execution_count": 37,
     "metadata": {},
     "output_type": "execute_result"
    },
    {
     "data": {
      "image/png": "[encoded data removed]",
      "text/plain": [
       "<Figure size 432x288 with 1 Axes>"
      ]
     },
     "metadata": {
      "needs_background": "light"
     },
     "output_type": "display_data"
    }
   ],
   "source": [
    "plt.title('False if a patient did not spread COVID19 to others else True')\n",
    "sns.countplot(data['Transmission info'],palette=sns.dark_palette('blue',reverse=True))"
   ]
  },
  {
   "cell_type": "markdown",
   "metadata": {},
   "source": [
    "> We can estimate how many people are carriers of COVID19"
   ]
  },
  {
   "cell_type": "code",
   "execution_count": 38,
   "metadata": {},
   "outputs": [
    {
     "name": "stdout",
     "output_type": "stream",
     "text": [
      "COVID19 estimated to be spread by 153 people\n"
     ]
    }
   ],
   "source": [
    "print(\"COVID19 estimated to be spread by {} people\".format(data['Transmission info'].value_counts()[1]))"
   ]
  },
  {
   "cell_type": "code",
   "execution_count": 62,
   "metadata": {},
   "outputs": [],
   "source": [
    "X = pd.to_datetime(data['Diagnosed date']).value_counts(ascending=False).index\n",
    "Y = data['Diagnosed date'].value_counts(ascending=False).values"
   ]
  },
  {
   "cell_type": "code",
   "execution_count": 72,
   "metadata": {},
   "outputs": [
    {
     "data": {
      "text/plain": [
       "<matplotlib.axes._subplots.AxesSubplot at 0x1a270c1c10>"
      ]
     },
     "execution_count": 72,
     "metadata": {},
     "output_type": "execute_result"
    },
    {
     "data": {
      "image/png": "[encoded data removed]",
      "text/plain": [
       "<Figure size 3600x1440 with 1 Axes>"
      ]
     },
     "metadata": {
      "needs_background": "light"
     },
     "output_type": "display_data"
    }
   ],
   "source": [
    "plt.figure(figsize=(50,20))\n",
    "sns.lineplot(X,Y)"
   ]
  }
 ],
 "metadata": {
  "kernelspec": {
   "display_name": "Python 3",
   "language": "python",
   "name": "python3"
  },
  "language_info": {
   "codemirror_mode": {
    "name": "ipython",
    "version": 3
   },
   "file_extension": ".py",
   "mimetype": "text/x-python",
   "name": "python",
   "nbconvert_exporter": "python",
   "pygments_lexer": "ipython3",
   "version": "3.7.4"
  }
 },
 "nbformat": 4,
 "nbformat_minor": 2
}
